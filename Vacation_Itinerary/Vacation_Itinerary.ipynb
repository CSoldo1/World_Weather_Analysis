{
 "cells": [
  {
   "cell_type": "code",
   "execution_count": 1,
   "id": "05be2123",
   "metadata": {},
   "outputs": [],
   "source": [
    "# Dependencies and Setup\n",
    "import pandas as pd\n",
    "import requests\n",
    "import gmaps\n",
    "\n",
    "# Import API key\n",
    "from config import g_key"
   ]
  },
  {
   "cell_type": "code",
   "execution_count": 2,
   "id": "d0b2ec12",
   "metadata": {},
   "outputs": [],
   "source": [
    "# Configure gmaps\n",
    "gmaps.configure(api_key=g_key)"
   ]
  },
  {
   "cell_type": "code",
   "execution_count": 3,
   "id": "50c90729",
   "metadata": {},
   "outputs": [
    {
     "data": {
      "text/plain": [
       "'C:\\\\Users\\\\chris\\\\Desktop\\\\Data_Analytics_Class\\\\Module_6\\\\World_Weather_Analysis\\\\Vacation_Itinerary'"
      ]
     },
     "execution_count": 3,
     "metadata": {},
     "output_type": "execute_result"
    }
   ],
   "source": [
    "%pwd"
   ]
  },
  {
   "cell_type": "code",
   "execution_count": 6,
   "id": "0fe74458",
   "metadata": {},
   "outputs": [
    {
     "data": {
      "text/html": [
       "<div>\n",
       "<style scoped>\n",
       "    .dataframe tbody tr th:only-of-type {\n",
       "        vertical-align: middle;\n",
       "    }\n",
       "\n",
       "    .dataframe tbody tr th {\n",
       "        vertical-align: top;\n",
       "    }\n",
       "\n",
       "    .dataframe thead th {\n",
       "        text-align: right;\n",
       "    }\n",
       "</style>\n",
       "<table border=\"1\" class=\"dataframe\">\n",
       "  <thead>\n",
       "    <tr style=\"text-align: right;\">\n",
       "      <th></th>\n",
       "      <th>City_ID</th>\n",
       "      <th>City</th>\n",
       "      <th>Country</th>\n",
       "      <th>Max Temp</th>\n",
       "      <th>Current Description</th>\n",
       "      <th>Lat</th>\n",
       "      <th>Lng</th>\n",
       "      <th>Hotel Name</th>\n",
       "    </tr>\n",
       "  </thead>\n",
       "  <tbody>\n",
       "    <tr>\n",
       "      <th>0</th>\n",
       "      <td>3</td>\n",
       "      <td>Altamira</td>\n",
       "      <td>BR</td>\n",
       "      <td>80.69</td>\n",
       "      <td>scattered clouds</td>\n",
       "      <td>-3.2033</td>\n",
       "      <td>-52.2064</td>\n",
       "      <td>Requinte Hotel</td>\n",
       "    </tr>\n",
       "    <tr>\n",
       "      <th>1</th>\n",
       "      <td>4</td>\n",
       "      <td>Ahuimanu</td>\n",
       "      <td>US</td>\n",
       "      <td>76.75</td>\n",
       "      <td>broken clouds</td>\n",
       "      <td>21.4447</td>\n",
       "      <td>-157.8378</td>\n",
       "      <td>Paradise Bay Resort</td>\n",
       "    </tr>\n",
       "    <tr>\n",
       "      <th>2</th>\n",
       "      <td>5</td>\n",
       "      <td>Saint-Philippe</td>\n",
       "      <td>RE</td>\n",
       "      <td>80.19</td>\n",
       "      <td>scattered clouds</td>\n",
       "      <td>-21.3585</td>\n",
       "      <td>55.7679</td>\n",
       "      <td>Le four à pain</td>\n",
       "    </tr>\n",
       "    <tr>\n",
       "      <th>3</th>\n",
       "      <td>10</td>\n",
       "      <td>Sur</td>\n",
       "      <td>OM</td>\n",
       "      <td>82.67</td>\n",
       "      <td>clear sky</td>\n",
       "      <td>22.5667</td>\n",
       "      <td>59.5289</td>\n",
       "      <td>Sur Plaza Hotel</td>\n",
       "    </tr>\n",
       "    <tr>\n",
       "      <th>4</th>\n",
       "      <td>17</td>\n",
       "      <td>Hermanus</td>\n",
       "      <td>ZA</td>\n",
       "      <td>76.80</td>\n",
       "      <td>overcast clouds</td>\n",
       "      <td>-34.4187</td>\n",
       "      <td>19.2345</td>\n",
       "      <td>Misty Waves Boutique Hotel</td>\n",
       "    </tr>\n",
       "    <tr>\n",
       "      <th>...</th>\n",
       "      <td>...</td>\n",
       "      <td>...</td>\n",
       "      <td>...</td>\n",
       "      <td>...</td>\n",
       "      <td>...</td>\n",
       "      <td>...</td>\n",
       "      <td>...</td>\n",
       "      <td>...</td>\n",
       "    </tr>\n",
       "    <tr>\n",
       "      <th>236</th>\n",
       "      <td>670</td>\n",
       "      <td>Puerto Ayacucho</td>\n",
       "      <td>VE</td>\n",
       "      <td>80.02</td>\n",
       "      <td>broken clouds</td>\n",
       "      <td>5.6639</td>\n",
       "      <td>-67.6236</td>\n",
       "      <td>Posada Turistica Manapiare</td>\n",
       "    </tr>\n",
       "    <tr>\n",
       "      <th>237</th>\n",
       "      <td>674</td>\n",
       "      <td>Impfondo</td>\n",
       "      <td>CG</td>\n",
       "      <td>84.18</td>\n",
       "      <td>light rain</td>\n",
       "      <td>1.6381</td>\n",
       "      <td>18.0667</td>\n",
       "      <td>Auberge La Place de Jules</td>\n",
       "    </tr>\n",
       "    <tr>\n",
       "      <th>238</th>\n",
       "      <td>675</td>\n",
       "      <td>Sulangan</td>\n",
       "      <td>PH</td>\n",
       "      <td>83.28</td>\n",
       "      <td>few clouds</td>\n",
       "      <td>11.1373</td>\n",
       "      <td>123.7228</td>\n",
       "      <td>Maia's Beach Resort</td>\n",
       "    </tr>\n",
       "    <tr>\n",
       "      <th>239</th>\n",
       "      <td>677</td>\n",
       "      <td>Luganville</td>\n",
       "      <td>VU</td>\n",
       "      <td>79.21</td>\n",
       "      <td>overcast clouds</td>\n",
       "      <td>-15.5333</td>\n",
       "      <td>167.1667</td>\n",
       "      <td>The Espiritu Hotel</td>\n",
       "    </tr>\n",
       "    <tr>\n",
       "      <th>240</th>\n",
       "      <td>682</td>\n",
       "      <td>Bull Savanna</td>\n",
       "      <td>JM</td>\n",
       "      <td>76.73</td>\n",
       "      <td>overcast clouds</td>\n",
       "      <td>17.8868</td>\n",
       "      <td>-77.5902</td>\n",
       "      <td>Big Red's</td>\n",
       "    </tr>\n",
       "  </tbody>\n",
       "</table>\n",
       "<p>241 rows × 8 columns</p>\n",
       "</div>"
      ],
      "text/plain": [
       "     City_ID             City Country  Max Temp Current Description      Lat  \\\n",
       "0          3         Altamira      BR     80.69    scattered clouds  -3.2033   \n",
       "1          4         Ahuimanu      US     76.75       broken clouds  21.4447   \n",
       "2          5   Saint-Philippe      RE     80.19    scattered clouds -21.3585   \n",
       "3         10              Sur      OM     82.67           clear sky  22.5667   \n",
       "4         17         Hermanus      ZA     76.80     overcast clouds -34.4187   \n",
       "..       ...              ...     ...       ...                 ...      ...   \n",
       "236      670  Puerto Ayacucho      VE     80.02       broken clouds   5.6639   \n",
       "237      674         Impfondo      CG     84.18          light rain   1.6381   \n",
       "238      675         Sulangan      PH     83.28          few clouds  11.1373   \n",
       "239      677       Luganville      VU     79.21     overcast clouds -15.5333   \n",
       "240      682     Bull Savanna      JM     76.73     overcast clouds  17.8868   \n",
       "\n",
       "          Lng                  Hotel Name  \n",
       "0    -52.2064              Requinte Hotel  \n",
       "1   -157.8378         Paradise Bay Resort  \n",
       "2     55.7679              Le four à pain  \n",
       "3     59.5289             Sur Plaza Hotel  \n",
       "4     19.2345  Misty Waves Boutique Hotel  \n",
       "..        ...                         ...  \n",
       "236  -67.6236  Posada Turistica Manapiare  \n",
       "237   18.0667   Auberge La Place de Jules  \n",
       "238  123.7228         Maia's Beach Resort  \n",
       "239  167.1667          The Espiritu Hotel  \n",
       "240  -77.5902                   Big Red's  \n",
       "\n",
       "[241 rows x 8 columns]"
      ]
     },
     "execution_count": 6,
     "metadata": {},
     "output_type": "execute_result"
    }
   ],
   "source": [
    "# Read the WeatherPy_vacation.csv into a DataFrame\n",
    "vacation_df = pd.read_csv(r'C:\\\\Users\\\\chris\\\\Desktop\\\\Data_Analytics_Class\\\\Module_6\\\\World_Weather_Analysis\\\\Vacation_Search\\\\WeatherPy_vacation.csv')\n",
    "\n",
    "# Display sample data\n",
    "vacation_df"
   ]
  },
  {
   "cell_type": "code",
   "execution_count": 7,
   "id": "d470f1da",
   "metadata": {},
   "outputs": [],
   "source": [
    "# Review the formatting template\n",
    "info_box_template = \"\"\"\n",
    "<dl>\n",
    "<dt>Hotel Name</dt><dd>{Hotel Name}</dd>\n",
    "<dt>City</dt><dd>{City}</dd>\n",
    "<dt>Country</dt><dd>{Country}</dd>\n",
    "<dt>Current Weather</dt><dd>{Current Description} and {Max Temp} °F</dd>\n",
    "</dl>\n",
    "\"\"\"\n",
    "\n",
    "# Get the data from each row and add it to the formatting template and store the data in a list\n",
    "hotel_info = [info_box_template.format(**row) for index, row in vacation_df.iterrows()]\n",
    "\n",
    "# Get the latitude and longitude from each row and store in a new DataFrame.\n",
    "locations = vacation_df[[\"Lat\", \"Lng\"]]"
   ]
  },
  {
   "cell_type": "code",
   "execution_count": 8,
   "id": "a874f108",
   "metadata": {},
   "outputs": [
    {
     "data": {
      "application/vnd.jupyter.widget-view+json": {
       "model_id": "103b31dc352f41c390549bc358b077bc",
       "version_major": 2,
       "version_minor": 0
      },
      "text/plain": [
       "Figure(layout=FigureLayout(height='420px'))"
      ]
     },
     "metadata": {},
     "output_type": "display_data"
    }
   ],
   "source": [
    "# Add a marker layer for each city to the map.\n",
    "marker_layer = gmaps.marker_layer(locations, info_box_content=hotel_info)\n",
    "fig = gmaps.figure()\n",
    "fig.add_layer(marker_layer)\n",
    "\n",
    "# Display the figure\n",
    "fig"
   ]
  },
  {
   "cell_type": "code",
   "execution_count": 9,
   "id": "a3c8c841",
   "metadata": {},
   "outputs": [],
   "source": [
    "# Create DataFrames for each city by filtering the 'vacation_df' using the loc method. \n",
    "# The starting and ending city should be the same city.\n",
    "vacation_start = vacation_df.loc[vacation_df[\"City\"] == \"Santa Rosa\"]\n",
    "vacation_end =  vacation_df.loc[vacation_df[\"City\"] == \"Santa Rosa\"]\n",
    "vacation_stop1 = vacation_df.loc[vacation_df[\"City\"] == \"Plaridel\"]\n",
    "vacation_stop2 = vacation_df.loc[vacation_df[\"City\"] == \"Tabuk\"]\n",
    "vacation_stop3 = vacation_df.loc[vacation_df[\"City\"] == \"Davila\"]"
   ]
  },
  {
   "cell_type": "code",
   "execution_count": 12,
   "id": "e379d8f8",
   "metadata": {},
   "outputs": [
    {
     "name": "stdout",
     "output_type": "stream",
     "text": [
      "Start: (14.3122, 121.1114), End: (14.3122, 121.1114)\n"
     ]
    }
   ],
   "source": [
    "# Get the latitude-longitude pairs as tuples from each city DataFrame using the to_numpy function and list indexing.\n",
    "start = vacation_start[\"Lat\"].to_numpy()[0], vacation_start[\"Lng\"].to_numpy()[0]\n",
    "end = vacation_end[\"Lat\"].to_numpy()[0], vacation_end[\"Lng\"].to_numpy()[0]\n",
    "print(f'Start: {start}, End: {end}')"
   ]
  },
  {
   "cell_type": "code",
   "execution_count": 13,
   "id": "bd63a426",
   "metadata": {},
   "outputs": [],
   "source": [
    "stop1 = vacation_stop1[\"Lat\"].to_numpy()[0], vacation_stop1[\"Lng\"].to_numpy()[0]\n",
    "\n",
    "stop2 = vacation_stop2[\"Lat\"].to_numpy()[0], vacation_stop2[\"Lng\"].to_numpy()[0]\n",
    "\n",
    "stop3 = vacation_stop3[\"Lat\"].to_numpy()[0], vacation_stop3[\"Lng\"].to_numpy()[0]"
   ]
  },
  {
   "cell_type": "code",
   "execution_count": 20,
   "id": "a65719b6",
   "metadata": {},
   "outputs": [
    {
     "data": {
      "application/vnd.jupyter.widget-view+json": {
       "model_id": "76473cb3459642dea75cb2ae8e18bef7",
       "version_major": 2,
       "version_minor": 0
      },
      "text/plain": [
       "Figure(layout=FigureLayout(height='420px'))"
      ]
     },
     "metadata": {},
     "output_type": "display_data"
    }
   ],
   "source": [
    "fig = gmaps.figure()\n",
    "city_itinerary = gmaps.directions_layer(\n",
    "        start, end, waypoints=[stop1, stop2, stop3],\n",
    "        travel_mode='DRIVING')\n",
    "\n",
    "fig.add_layer(city_itinerary)\n",
    "fig"
   ]
  },
  {
   "cell_type": "code",
   "execution_count": 15,
   "id": "0056196f",
   "metadata": {},
   "outputs": [
    {
     "data": {
      "text/html": [
       "<div>\n",
       "<style scoped>\n",
       "    .dataframe tbody tr th:only-of-type {\n",
       "        vertical-align: middle;\n",
       "    }\n",
       "\n",
       "    .dataframe tbody tr th {\n",
       "        vertical-align: top;\n",
       "    }\n",
       "\n",
       "    .dataframe thead th {\n",
       "        text-align: right;\n",
       "    }\n",
       "</style>\n",
       "<table border=\"1\" class=\"dataframe\">\n",
       "  <thead>\n",
       "    <tr style=\"text-align: right;\">\n",
       "      <th></th>\n",
       "      <th>City_ID</th>\n",
       "      <th>City</th>\n",
       "      <th>Country</th>\n",
       "      <th>Max Temp</th>\n",
       "      <th>Current Description</th>\n",
       "      <th>Lat</th>\n",
       "      <th>Lng</th>\n",
       "      <th>Hotel Name</th>\n",
       "    </tr>\n",
       "  </thead>\n",
       "  <tbody>\n",
       "    <tr>\n",
       "      <th>0</th>\n",
       "      <td>525</td>\n",
       "      <td>Santa Rosa</td>\n",
       "      <td>PH</td>\n",
       "      <td>84.18</td>\n",
       "      <td>clear sky</td>\n",
       "      <td>14.3122</td>\n",
       "      <td>121.1114</td>\n",
       "      <td>Erlyn’s Sta Rosa City Home</td>\n",
       "    </tr>\n",
       "    <tr>\n",
       "      <th>1</th>\n",
       "      <td>466</td>\n",
       "      <td>Plaridel</td>\n",
       "      <td>PH</td>\n",
       "      <td>84.18</td>\n",
       "      <td>few clouds</td>\n",
       "      <td>14.8872</td>\n",
       "      <td>120.8572</td>\n",
       "      <td>St. Agatha Resort</td>\n",
       "    </tr>\n",
       "    <tr>\n",
       "      <th>2</th>\n",
       "      <td>269</td>\n",
       "      <td>Tabuk</td>\n",
       "      <td>PH</td>\n",
       "      <td>76.60</td>\n",
       "      <td>scattered clouds</td>\n",
       "      <td>17.4189</td>\n",
       "      <td>121.4443</td>\n",
       "      <td>Golden Berries Hotel and Convention</td>\n",
       "    </tr>\n",
       "    <tr>\n",
       "      <th>3</th>\n",
       "      <td>644</td>\n",
       "      <td>Davila</td>\n",
       "      <td>PH</td>\n",
       "      <td>80.58</td>\n",
       "      <td>clear sky</td>\n",
       "      <td>18.4726</td>\n",
       "      <td>120.5763</td>\n",
       "      <td>Blue Ridge Beach Resort</td>\n",
       "    </tr>\n",
       "  </tbody>\n",
       "</table>\n",
       "</div>"
      ],
      "text/plain": [
       "   City_ID        City Country  Max Temp Current Description      Lat  \\\n",
       "0      525  Santa Rosa      PH     84.18           clear sky  14.3122   \n",
       "1      466    Plaridel      PH     84.18          few clouds  14.8872   \n",
       "2      269       Tabuk      PH     76.60    scattered clouds  17.4189   \n",
       "3      644      Davila      PH     80.58           clear sky  18.4726   \n",
       "\n",
       "        Lng                           Hotel Name  \n",
       "0  121.1114           Erlyn’s Sta Rosa City Home  \n",
       "1  120.8572                    St. Agatha Resort  \n",
       "2  121.4443  Golden Berries Hotel and Convention  \n",
       "3  120.5763              Blue Ridge Beach Resort  "
      ]
     },
     "execution_count": 15,
     "metadata": {},
     "output_type": "execute_result"
    }
   ],
   "source": [
    "#  Combine the four city DataFrames into one DataFrame using the concat() function.\n",
    "itinerary_df = pd.concat(\n",
    "    [\n",
    "        vacation_start,\n",
    "        vacation_stop1,\n",
    "        vacation_stop2,\n",
    "        vacation_stop3\n",
    "    ],\n",
    "    ignore_index = True\n",
    ")\n",
    "\n",
    "# Display sample data\n",
    "itinerary_df"
   ]
  },
  {
   "cell_type": "code",
   "execution_count": 16,
   "id": "509cd2b0",
   "metadata": {},
   "outputs": [],
   "source": [
    "# Review the formatting template\n",
    "info_box_template = \"\"\"\n",
    "<dl>\n",
    "<dt>Hotel Name</dt><dd>{Hotel Name}</dd>\n",
    "<dt>City</dt><dd>{City}</dd>\n",
    "<dt>Country</dt><dd>{Country}</dd>\n",
    "<dt>Current Weather</dt><dd>{Current Description} and {Max Temp} °F</dd>\n",
    "</dl>\n",
    "\"\"\"\n",
    "\n",
    "# Get the data from each row and add it to the formatting template and store the data in a list\n",
    "hotel_info = [info_box_template.format(**row) for index, row in itinerary_df.iterrows()]\n",
    "\n",
    "# Get the latitude and longitude from each row and store in a new DataFrame.\n",
    "locations = itinerary_df[[\"Lat\", \"Lng\"]]"
   ]
  },
  {
   "cell_type": "code",
   "execution_count": 1,
   "id": "e241e422",
   "metadata": {},
   "outputs": [
    {
     "ename": "NameError",
     "evalue": "name 'gmaps' is not defined",
     "output_type": "error",
     "traceback": [
      "\u001b[1;31m---------------------------------------------------------------------------\u001b[0m",
      "\u001b[1;31mNameError\u001b[0m                                 Traceback (most recent call last)",
      "\u001b[1;32m~\\AppData\\Local\\Temp\\ipykernel_19760\\1562095718.py\u001b[0m in \u001b[0;36m<module>\u001b[1;34m\u001b[0m\n\u001b[0;32m      1\u001b[0m \u001b[1;31m# Add a marker layer for each city to the map.\u001b[0m\u001b[1;33m\u001b[0m\u001b[1;33m\u001b[0m\u001b[1;33m\u001b[0m\u001b[0m\n\u001b[1;32m----> 2\u001b[1;33m \u001b[0mmarker_layer\u001b[0m \u001b[1;33m=\u001b[0m \u001b[0mgmaps\u001b[0m\u001b[1;33m.\u001b[0m\u001b[0mmarker_layer\u001b[0m\u001b[1;33m(\u001b[0m\u001b[0mlocations\u001b[0m\u001b[1;33m,\u001b[0m \u001b[0minfo_box_content\u001b[0m\u001b[1;33m=\u001b[0m\u001b[0mhotel_info\u001b[0m\u001b[1;33m)\u001b[0m\u001b[1;33m\u001b[0m\u001b[1;33m\u001b[0m\u001b[0m\n\u001b[0m\u001b[0;32m      3\u001b[0m \u001b[0mfig\u001b[0m \u001b[1;33m=\u001b[0m \u001b[0mgmaps\u001b[0m\u001b[1;33m.\u001b[0m\u001b[0mfigure\u001b[0m\u001b[1;33m(\u001b[0m\u001b[1;33m)\u001b[0m\u001b[1;33m\u001b[0m\u001b[1;33m\u001b[0m\u001b[0m\n\u001b[0;32m      4\u001b[0m \u001b[0mfig\u001b[0m\u001b[1;33m.\u001b[0m\u001b[0madd_layer\u001b[0m\u001b[1;33m(\u001b[0m\u001b[0mmarker_layer\u001b[0m\u001b[1;33m)\u001b[0m\u001b[1;33m\u001b[0m\u001b[1;33m\u001b[0m\u001b[0m\n\u001b[0;32m      5\u001b[0m \u001b[0mfig\u001b[0m\u001b[1;33m\u001b[0m\u001b[1;33m\u001b[0m\u001b[0m\n",
      "\u001b[1;31mNameError\u001b[0m: name 'gmaps' is not defined"
     ]
    }
   ],
   "source": [
    "# Add a marker layer for each city to the map.\n",
    "marker_layer = gmaps.marker_layer(locations, info_box_content=hotel_info)\n",
    "fig = gmaps.figure()\n",
    "fig.add_layer(marker_layer)\n",
    "fig"
   ]
  }
 ],
 "metadata": {
  "kernelspec": {
   "display_name": "PythonData",
   "language": "python",
   "name": "pythondata"
  },
  "language_info": {
   "codemirror_mode": {
    "name": "ipython",
    "version": 3
   },
   "file_extension": ".py",
   "mimetype": "text/x-python",
   "name": "python",
   "nbconvert_exporter": "python",
   "pygments_lexer": "ipython3",
   "version": "3.7.13"
  }
 },
 "nbformat": 4,
 "nbformat_minor": 5
}
